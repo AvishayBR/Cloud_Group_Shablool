{
  "nbformat": 4,
  "nbformat_minor": 0,
  "metadata": {
    "colab": {
      "provenance": [],
      "include_colab_link": true
    },
    "kernelspec": {
      "name": "python3",
      "display_name": "Python 3"
    },
    "language_info": {
      "name": "python"
    },
    "widgets": {
      "application/vnd.jupyter.widget-state+json": {
        "ee734c499fbe46ea81a0a64c04c90ffc": {
          "model_module": "@jupyter-widgets/controls",
          "model_name": "DropdownModel",
          "model_module_version": "1.5.0",
          "state": {
            "_dom_classes": [],
            "_model_module": "@jupyter-widgets/controls",
            "_model_module_version": "1.5.0",
            "_model_name": "DropdownModel",
            "_options_labels": [
              "Avishay Bar",
              "Ron Bendel"
            ],
            "_view_count": null,
            "_view_module": "@jupyter-widgets/controls",
            "_view_module_version": "1.5.0",
            "_view_name": "DropdownView",
            "description": "Choose Student:",
            "description_tooltip": null,
            "disabled": false,
            "index": 1,
            "layout": "IPY_MODEL_2abbff7535d1422ea51e3d58fe1f94bb",
            "style": "IPY_MODEL_10412ba5d8394c8685671dd79fdef24e"
          }
        },
        "2abbff7535d1422ea51e3d58fe1f94bb": {
          "model_module": "@jupyter-widgets/base",
          "model_name": "LayoutModel",
          "model_module_version": "1.2.0",
          "state": {
            "_model_module": "@jupyter-widgets/base",
            "_model_module_version": "1.2.0",
            "_model_name": "LayoutModel",
            "_view_count": null,
            "_view_module": "@jupyter-widgets/base",
            "_view_module_version": "1.2.0",
            "_view_name": "LayoutView",
            "align_content": null,
            "align_items": null,
            "align_self": null,
            "border": null,
            "bottom": null,
            "display": null,
            "flex": null,
            "flex_flow": null,
            "grid_area": null,
            "grid_auto_columns": null,
            "grid_auto_flow": null,
            "grid_auto_rows": null,
            "grid_column": null,
            "grid_gap": null,
            "grid_row": null,
            "grid_template_areas": null,
            "grid_template_columns": null,
            "grid_template_rows": null,
            "height": null,
            "justify_content": null,
            "justify_items": null,
            "left": null,
            "margin": null,
            "max_height": null,
            "max_width": null,
            "min_height": null,
            "min_width": null,
            "object_fit": null,
            "object_position": null,
            "order": null,
            "overflow": null,
            "overflow_x": null,
            "overflow_y": null,
            "padding": null,
            "right": null,
            "top": null,
            "visibility": null,
            "width": null
          }
        },
        "10412ba5d8394c8685671dd79fdef24e": {
          "model_module": "@jupyter-widgets/controls",
          "model_name": "DescriptionStyleModel",
          "model_module_version": "1.5.0",
          "state": {
            "_model_module": "@jupyter-widgets/controls",
            "_model_module_version": "1.5.0",
            "_model_name": "DescriptionStyleModel",
            "_view_count": null,
            "_view_module": "@jupyter-widgets/base",
            "_view_module_version": "1.2.0",
            "_view_name": "StyleView",
            "description_width": "initial"
          }
        },
        "db4775a4820f4d28916c0250bf01e1a7": {
          "model_module": "@jupyter-widgets/output",
          "model_name": "OutputModel",
          "model_module_version": "1.0.0",
          "state": {
            "_dom_classes": [],
            "_model_module": "@jupyter-widgets/output",
            "_model_module_version": "1.0.0",
            "_model_name": "OutputModel",
            "_view_count": null,
            "_view_module": "@jupyter-widgets/output",
            "_view_module_version": "1.0.0",
            "_view_name": "OutputView",
            "layout": "IPY_MODEL_5e9dddcd9a7a422d86fdeca30bfbe975",
            "msg_id": "",
            "outputs": [
              {
                "output_type": "stream",
                "name": "stdout",
                "text": [
                  "Name:    Ron Bendel\n",
                  "Mail:    Ron.Bendel@e.braude.ac.il\n",
                  "Courses: A, B, C, D\n",
                  "Link:    https://w3.braude.ac.il/\n"
                ]
              },
              {
                "output_type": "display_data",
                "data": {
                  "text/plain": "Text(value='', description='Favorite Show:', placeholder='Type something...', style=DescriptionStyle(descripti…",
                  "application/vnd.jupyter.widget-view+json": {
                    "version_major": 2,
                    "version_minor": 0,
                    "model_id": "ccdd279b9f674dd8af7d693c6bf72042"
                  }
                },
                "metadata": {}
              },
              {
                "output_type": "display_data",
                "data": {
                  "text/plain": "Button(description='Submit', style=ButtonStyle())",
                  "application/vnd.jupyter.widget-view+json": {
                    "version_major": 2,
                    "version_minor": 0,
                    "model_id": "12c0fa1cb1ba42d8924ac373b0ab1af1"
                  }
                },
                "metadata": {}
              }
            ]
          }
        },
        "5e9dddcd9a7a422d86fdeca30bfbe975": {
          "model_module": "@jupyter-widgets/base",
          "model_name": "LayoutModel",
          "model_module_version": "1.2.0",
          "state": {
            "_model_module": "@jupyter-widgets/base",
            "_model_module_version": "1.2.0",
            "_model_name": "LayoutModel",
            "_view_count": null,
            "_view_module": "@jupyter-widgets/base",
            "_view_module_version": "1.2.0",
            "_view_name": "LayoutView",
            "align_content": null,
            "align_items": null,
            "align_self": null,
            "border": null,
            "bottom": null,
            "display": null,
            "flex": null,
            "flex_flow": null,
            "grid_area": null,
            "grid_auto_columns": null,
            "grid_auto_flow": null,
            "grid_auto_rows": null,
            "grid_column": null,
            "grid_gap": null,
            "grid_row": null,
            "grid_template_areas": null,
            "grid_template_columns": null,
            "grid_template_rows": null,
            "height": null,
            "justify_content": null,
            "justify_items": null,
            "left": null,
            "margin": null,
            "max_height": null,
            "max_width": null,
            "min_height": null,
            "min_width": null,
            "object_fit": null,
            "object_position": null,
            "order": null,
            "overflow": null,
            "overflow_x": null,
            "overflow_y": null,
            "padding": null,
            "right": null,
            "top": null,
            "visibility": null,
            "width": null
          }
        },
        "ccdd279b9f674dd8af7d693c6bf72042": {
          "model_module": "@jupyter-widgets/controls",
          "model_name": "TextModel",
          "model_module_version": "1.5.0",
          "state": {
            "_dom_classes": [],
            "_model_module": "@jupyter-widgets/controls",
            "_model_module_version": "1.5.0",
            "_model_name": "TextModel",
            "_view_count": null,
            "_view_module": "@jupyter-widgets/controls",
            "_view_module_version": "1.5.0",
            "_view_name": "TextView",
            "continuous_update": true,
            "description": "Favorite Show:",
            "description_tooltip": null,
            "disabled": false,
            "layout": "IPY_MODEL_08e59d18f43a474da809a5381e743946",
            "placeholder": "Type something...",
            "style": "IPY_MODEL_e319c0d802944d5281461d30b315d609",
            "value": ""
          }
        },
        "08e59d18f43a474da809a5381e743946": {
          "model_module": "@jupyter-widgets/base",
          "model_name": "LayoutModel",
          "model_module_version": "1.2.0",
          "state": {
            "_model_module": "@jupyter-widgets/base",
            "_model_module_version": "1.2.0",
            "_model_name": "LayoutModel",
            "_view_count": null,
            "_view_module": "@jupyter-widgets/base",
            "_view_module_version": "1.2.0",
            "_view_name": "LayoutView",
            "align_content": null,
            "align_items": null,
            "align_self": null,
            "border": null,
            "bottom": null,
            "display": null,
            "flex": null,
            "flex_flow": null,
            "grid_area": null,
            "grid_auto_columns": null,
            "grid_auto_flow": null,
            "grid_auto_rows": null,
            "grid_column": null,
            "grid_gap": null,
            "grid_row": null,
            "grid_template_areas": null,
            "grid_template_columns": null,
            "grid_template_rows": null,
            "height": null,
            "justify_content": null,
            "justify_items": null,
            "left": null,
            "margin": null,
            "max_height": null,
            "max_width": null,
            "min_height": null,
            "min_width": null,
            "object_fit": null,
            "object_position": null,
            "order": null,
            "overflow": null,
            "overflow_x": null,
            "overflow_y": null,
            "padding": null,
            "right": null,
            "top": null,
            "visibility": null,
            "width": null
          }
        },
        "e319c0d802944d5281461d30b315d609": {
          "model_module": "@jupyter-widgets/controls",
          "model_name": "DescriptionStyleModel",
          "model_module_version": "1.5.0",
          "state": {
            "_model_module": "@jupyter-widgets/controls",
            "_model_module_version": "1.5.0",
            "_model_name": "DescriptionStyleModel",
            "_view_count": null,
            "_view_module": "@jupyter-widgets/base",
            "_view_module_version": "1.2.0",
            "_view_name": "StyleView",
            "description_width": "initial"
          }
        },
        "12c0fa1cb1ba42d8924ac373b0ab1af1": {
          "model_module": "@jupyter-widgets/controls",
          "model_name": "ButtonModel",
          "model_module_version": "1.5.0",
          "state": {
            "_dom_classes": [],
            "_model_module": "@jupyter-widgets/controls",
            "_model_module_version": "1.5.0",
            "_model_name": "ButtonModel",
            "_view_count": null,
            "_view_module": "@jupyter-widgets/controls",
            "_view_module_version": "1.5.0",
            "_view_name": "ButtonView",
            "button_style": "",
            "description": "Submit",
            "disabled": false,
            "icon": "",
            "layout": "IPY_MODEL_d8255dc183984c10a73bdd3e441863d1",
            "style": "IPY_MODEL_835c8185f16c42b0a341287af7c67f89",
            "tooltip": ""
          }
        },
        "d8255dc183984c10a73bdd3e441863d1": {
          "model_module": "@jupyter-widgets/base",
          "model_name": "LayoutModel",
          "model_module_version": "1.2.0",
          "state": {
            "_model_module": "@jupyter-widgets/base",
            "_model_module_version": "1.2.0",
            "_model_name": "LayoutModel",
            "_view_count": null,
            "_view_module": "@jupyter-widgets/base",
            "_view_module_version": "1.2.0",
            "_view_name": "LayoutView",
            "align_content": null,
            "align_items": null,
            "align_self": null,
            "border": null,
            "bottom": null,
            "display": null,
            "flex": null,
            "flex_flow": null,
            "grid_area": null,
            "grid_auto_columns": null,
            "grid_auto_flow": null,
            "grid_auto_rows": null,
            "grid_column": null,
            "grid_gap": null,
            "grid_row": null,
            "grid_template_areas": null,
            "grid_template_columns": null,
            "grid_template_rows": null,
            "height": null,
            "justify_content": null,
            "justify_items": null,
            "left": null,
            "margin": null,
            "max_height": null,
            "max_width": null,
            "min_height": null,
            "min_width": null,
            "object_fit": null,
            "object_position": null,
            "order": null,
            "overflow": null,
            "overflow_x": null,
            "overflow_y": null,
            "padding": null,
            "right": null,
            "top": null,
            "visibility": null,
            "width": null
          }
        },
        "835c8185f16c42b0a341287af7c67f89": {
          "model_module": "@jupyter-widgets/controls",
          "model_name": "ButtonStyleModel",
          "model_module_version": "1.5.0",
          "state": {
            "_model_module": "@jupyter-widgets/controls",
            "_model_module_version": "1.5.0",
            "_model_name": "ButtonStyleModel",
            "_view_count": null,
            "_view_module": "@jupyter-widgets/base",
            "_view_module_version": "1.2.0",
            "_view_name": "StyleView",
            "button_color": null,
            "font_weight": ""
          }
        },
        "8445e0c52855460e8e53264d5a76342f": {
          "model_module": "@jupyter-widgets/controls",
          "model_name": "VBoxModel",
          "model_module_version": "1.5.0",
          "state": {
            "_dom_classes": [],
            "_model_module": "@jupyter-widgets/controls",
            "_model_module_version": "1.5.0",
            "_model_name": "VBoxModel",
            "_view_count": null,
            "_view_module": "@jupyter-widgets/controls",
            "_view_module_version": "1.5.0",
            "_view_name": "VBoxView",
            "box_style": "",
            "children": [
              "IPY_MODEL_cb3be1939b9e435f9d54ae0331e85051",
              "IPY_MODEL_5d3919b8dbf14b35b17a975a66af7f1f"
            ],
            "layout": "IPY_MODEL_13f46b3c3e2543e5b2be1c57f9d24a8c"
          }
        },
        "cb3be1939b9e435f9d54ae0331e85051": {
          "model_module": "@jupyter-widgets/controls",
          "model_name": "DropdownModel",
          "model_module_version": "1.5.0",
          "state": {
            "_dom_classes": [],
            "_model_module": "@jupyter-widgets/controls",
            "_model_module_version": "1.5.0",
            "_model_name": "DropdownModel",
            "_options_labels": [
              "Avishay Bar",
              "Ron Bendel"
            ],
            "_view_count": null,
            "_view_module": "@jupyter-widgets/controls",
            "_view_module_version": "1.5.0",
            "_view_name": "DropdownView",
            "description": "Choose Student:",
            "description_tooltip": null,
            "disabled": false,
            "index": null,
            "layout": "IPY_MODEL_ff122b89ad52448e9b6a1a43d42927d5",
            "style": "IPY_MODEL_53df0964a5a14eed9fc62bf78bd685ad"
          }
        },
        "5d3919b8dbf14b35b17a975a66af7f1f": {
          "model_module": "@jupyter-widgets/output",
          "model_name": "OutputModel",
          "model_module_version": "1.0.0",
          "state": {
            "_dom_classes": [],
            "_model_module": "@jupyter-widgets/output",
            "_model_module_version": "1.0.0",
            "_model_name": "OutputModel",
            "_view_count": null,
            "_view_module": "@jupyter-widgets/output",
            "_view_module_version": "1.0.0",
            "_view_name": "OutputView",
            "layout": "IPY_MODEL_c8ea19d9beda4d9b81eb9cf83888923b",
            "msg_id": "",
            "outputs": []
          }
        },
        "13f46b3c3e2543e5b2be1c57f9d24a8c": {
          "model_module": "@jupyter-widgets/base",
          "model_name": "LayoutModel",
          "model_module_version": "1.2.0",
          "state": {
            "_model_module": "@jupyter-widgets/base",
            "_model_module_version": "1.2.0",
            "_model_name": "LayoutModel",
            "_view_count": null,
            "_view_module": "@jupyter-widgets/base",
            "_view_module_version": "1.2.0",
            "_view_name": "LayoutView",
            "align_content": null,
            "align_items": null,
            "align_self": null,
            "border": null,
            "bottom": null,
            "display": null,
            "flex": null,
            "flex_flow": null,
            "grid_area": null,
            "grid_auto_columns": null,
            "grid_auto_flow": null,
            "grid_auto_rows": null,
            "grid_column": null,
            "grid_gap": null,
            "grid_row": null,
            "grid_template_areas": null,
            "grid_template_columns": null,
            "grid_template_rows": null,
            "height": "400px",
            "justify_content": null,
            "justify_items": null,
            "left": null,
            "margin": null,
            "max_height": null,
            "max_width": null,
            "min_height": null,
            "min_width": null,
            "object_fit": null,
            "object_position": null,
            "order": null,
            "overflow": null,
            "overflow_x": null,
            "overflow_y": null,
            "padding": null,
            "right": null,
            "top": null,
            "visibility": null,
            "width": "100%"
          }
        },
        "ff122b89ad52448e9b6a1a43d42927d5": {
          "model_module": "@jupyter-widgets/base",
          "model_name": "LayoutModel",
          "model_module_version": "1.2.0",
          "state": {
            "_model_module": "@jupyter-widgets/base",
            "_model_module_version": "1.2.0",
            "_model_name": "LayoutModel",
            "_view_count": null,
            "_view_module": "@jupyter-widgets/base",
            "_view_module_version": "1.2.0",
            "_view_name": "LayoutView",
            "align_content": null,
            "align_items": null,
            "align_self": null,
            "border": null,
            "bottom": null,
            "display": null,
            "flex": null,
            "flex_flow": null,
            "grid_area": null,
            "grid_auto_columns": null,
            "grid_auto_flow": null,
            "grid_auto_rows": null,
            "grid_column": null,
            "grid_gap": null,
            "grid_row": null,
            "grid_template_areas": null,
            "grid_template_columns": null,
            "grid_template_rows": null,
            "height": null,
            "justify_content": null,
            "justify_items": null,
            "left": null,
            "margin": null,
            "max_height": null,
            "max_width": null,
            "min_height": null,
            "min_width": null,
            "object_fit": null,
            "object_position": null,
            "order": null,
            "overflow": null,
            "overflow_x": null,
            "overflow_y": null,
            "padding": null,
            "right": null,
            "top": null,
            "visibility": null,
            "width": null
          }
        },
        "53df0964a5a14eed9fc62bf78bd685ad": {
          "model_module": "@jupyter-widgets/controls",
          "model_name": "DescriptionStyleModel",
          "model_module_version": "1.5.0",
          "state": {
            "_model_module": "@jupyter-widgets/controls",
            "_model_module_version": "1.5.0",
            "_model_name": "DescriptionStyleModel",
            "_view_count": null,
            "_view_module": "@jupyter-widgets/base",
            "_view_module_version": "1.2.0",
            "_view_name": "StyleView",
            "description_width": "initial"
          }
        },
        "c8ea19d9beda4d9b81eb9cf83888923b": {
          "model_module": "@jupyter-widgets/base",
          "model_name": "LayoutModel",
          "model_module_version": "1.2.0",
          "state": {
            "_model_module": "@jupyter-widgets/base",
            "_model_module_version": "1.2.0",
            "_model_name": "LayoutModel",
            "_view_count": null,
            "_view_module": "@jupyter-widgets/base",
            "_view_module_version": "1.2.0",
            "_view_name": "LayoutView",
            "align_content": null,
            "align_items": null,
            "align_self": null,
            "border": null,
            "bottom": null,
            "display": null,
            "flex": null,
            "flex_flow": null,
            "grid_area": null,
            "grid_auto_columns": null,
            "grid_auto_flow": null,
            "grid_auto_rows": null,
            "grid_column": null,
            "grid_gap": null,
            "grid_row": null,
            "grid_template_areas": null,
            "grid_template_columns": null,
            "grid_template_rows": null,
            "height": null,
            "justify_content": null,
            "justify_items": null,
            "left": null,
            "margin": null,
            "max_height": null,
            "max_width": null,
            "min_height": null,
            "min_width": null,
            "object_fit": null,
            "object_position": null,
            "order": null,
            "overflow": null,
            "overflow_x": null,
            "overflow_y": null,
            "padding": null,
            "right": null,
            "top": null,
            "visibility": null,
            "width": null
          }
        }
      }
    }
  },
  "cells": [
    {
      "cell_type": "markdown",
      "metadata": {
        "id": "view-in-github",
        "colab_type": "text"
      },
      "source": [
        "<a href=\"https://colab.research.google.com/github/AvishayBR/Cloud_Group_Shablool/blob/main/Untitled0.ipynb\" target=\"_parent\"><img src=\"https://colab.research.google.com/assets/colab-badge.svg\" alt=\"Open In Colab\"/></a>"
      ]
    },
    {
      "cell_type": "code",
      "execution_count": null,
      "metadata": {
        "colab": {
          "base_uri": "https://localhost:8080/"
        },
        "id": "4JhVaz1hKSJz",
        "outputId": "77286d02-c096-42cb-9ff6-46dfe4d60f83"
      },
      "outputs": [
        {
          "output_type": "stream",
          "name": "stdout",
          "text": [
            "Hellow World\n"
          ]
        }
      ],
      "source": [
        "print(\"Hellow World\")"
      ]
    },
    {
      "cell_type": "code",
      "source": [
        "pip install numpy"
      ],
      "metadata": {
        "colab": {
          "base_uri": "https://localhost:8080/"
        },
        "id": "_ns_6x8pKVVp",
        "outputId": "37dd0c89-4a9f-4221-dec0-9afe313881c5"
      },
      "execution_count": null,
      "outputs": [
        {
          "output_type": "stream",
          "name": "stdout",
          "text": [
            "Requirement already satisfied: numpy in /usr/local/lib/python3.10/dist-packages (1.25.2)\n"
          ]
        }
      ]
    },
    {
      "cell_type": "code",
      "source": [
        "!pip install numpy"
      ],
      "metadata": {
        "colab": {
          "base_uri": "https://localhost:8080/"
        },
        "id": "rzCkuYmIKfMo",
        "outputId": "58443b51-6743-4368-afe1-c82f1c89d3c3"
      },
      "execution_count": null,
      "outputs": [
        {
          "output_type": "stream",
          "name": "stdout",
          "text": [
            "Requirement already satisfied: numpy in /usr/local/lib/python3.10/dist-packages (1.25.2)\n"
          ]
        }
      ]
    },
    {
      "cell_type": "code",
      "source": [
        "from google.colab import drive\n",
        "drive.mount('/content/drive')"
      ],
      "metadata": {
        "colab": {
          "base_uri": "https://localhost:8080/"
        },
        "id": "qLi6nJJ1KyR_",
        "outputId": "471c8d69-0033-4abd-8ac1-8b8130b0323e"
      },
      "execution_count": null,
      "outputs": [
        {
          "output_type": "stream",
          "name": "stdout",
          "text": [
            "Mounted at /content/drive\n"
          ]
        }
      ]
    },
    {
      "cell_type": "code",
      "source": [
        "!ls \"/content/drive/MyDrive/Colab Notebooks\""
      ],
      "metadata": {
        "colab": {
          "base_uri": "https://localhost:8080/"
        },
        "id": "6wyb0-MULzBw",
        "outputId": "d93e3635-f6c3-4361-e950-927200713cf9"
      },
      "execution_count": null,
      "outputs": [
        {
          "output_type": "stream",
          "name": "stdout",
          "text": [
            "'Copy of Practice1.ipynb'   Practice1.ipynb   Untitled0.ipynb\n"
          ]
        }
      ]
    },
    {
      "cell_type": "code",
      "source": [
        "import numpy as np\n",
        "from matplotlib import pyplot as plt\n",
        "\n",
        "y = np.random.randn(100)\n",
        "x = [x for x in range(len(y))]\n",
        "\n",
        "plt.plot(x, y, '-')\n",
        "plt.fill_between(x, y, 200, where = (y > 195), facecolor='g', alpha=0.6)\n",
        "\n",
        "plt.title(\"Sample Plot\")\n",
        "plt.show( )"
      ],
      "metadata": {
        "colab": {
          "base_uri": "https://localhost:8080/",
          "height": 452
        },
        "id": "JFOpdVIlKmjJ",
        "outputId": "1b2e1448-5757-4aa9-8d37-d6813d5193bc"
      },
      "execution_count": null,
      "outputs": [
        {
          "output_type": "display_data",
          "data": {
            "text/plain": [
              "<Figure size 640x480 with 1 Axes>"
            ],
            "image/png": "[encoded data removed]"
          },
          "metadata": {}
        }
      ]
    },
    {
      "cell_type": "code",
      "source": [
        "# @title Default title text\n",
        "sleeptime = 3 # @param {type:\"integer\"}\n"
      ],
      "metadata": {
        "id": "OPEpry4IMsDa"
      },
      "execution_count": null,
      "outputs": []
    },
    {
      "cell_type": "code",
      "source": [],
      "metadata": {
        "id": "R2mE5d1JPLOX"
      },
      "execution_count": null,
      "outputs": []
    },
    {
      "cell_type": "code",
      "source": [
        "import time\n",
        "print(time.ctime())\n",
        "time.sleep(sleeptime)\n",
        "print (time.ctime())\n"
      ],
      "metadata": {
        "colab": {
          "base_uri": "https://localhost:8080/"
        },
        "id": "glQHe9cxO5jj",
        "outputId": "95bbfd47-21b7-4548-e177-6bff6ae9f10a"
      },
      "execution_count": null,
      "outputs": [
        {
          "output_type": "stream",
          "name": "stdout",
          "text": [
            "Sat Jun  1 09:58:46 2024\n",
            "Sat Jun  1 09:58:49 2024\n"
          ]
        }
      ]
    },
    {
      "cell_type": "code",
      "source": [
        "# @title Default title text\n",
        "name = \"Avishay\" # @param {type:\"string\"}\n",
        "print(name)"
      ],
      "metadata": {
        "id": "XMpDFZLbPLpI",
        "colab": {
          "base_uri": "https://localhost:8080/"
        },
        "outputId": "043ded20-e64b-43f1-ad35-1e9dd39b757d"
      },
      "execution_count": null,
      "outputs": [
        {
          "output_type": "stream",
          "name": "stdout",
          "text": [
            "Avishay\n"
          ]
        }
      ]
    },
    {
      "cell_type": "code",
      "source": [
        "# @title Default title text\n",
        "color = \"blue\" # @param [\"red\",\"green\",\"blue\"]\n",
        "print(color)\n"
      ],
      "metadata": {
        "id": "o9Il6qFXPH8p",
        "colab": {
          "base_uri": "https://localhost:8080/"
        },
        "outputId": "465c5cf0-6079-4de5-fe3e-c11105a70690"
      },
      "execution_count": null,
      "outputs": [
        {
          "output_type": "stream",
          "name": "stdout",
          "text": [
            "green\n"
          ]
        }
      ]
    },
    {
      "cell_type": "code",
      "source": [
        "#@title Default title text\n",
        "%%html\n",
        "<style>\n",
        "body {\n",
        "  background-color: #f2bcca;\n",
        "}\n",
        "</style>\n",
        "color = 'green' #@param [\"red\", \"green\", \"blue\"] print(color)\n",
        "<svg xmlns=\"https://www.w3.org/2000/svg\" viewBox=\"0 0 600 400\" width=\"400\" height=\"400\">\n",
        "   <rect x=\"10\" y=\"00\" width=\"300\" height=\"100\" rx=\"0\" style=\"fill:orange; stroke:black; fill-opacity:1.0\" />\n",
        "   <rect x=\"10\" y=\"100\" width=\"300\" height=\"100\" rx=\"0\" style=\"fill:white; stroke:black; fill-opacity:1.0;\" />\n",
        "   <rect x=\"10\" y=\"200\" width=\"300\" height=\"100\" rx=\"0\" style=\"fill:green; stroke:black; fill-opacity:1.0;\" />\n",
        "</svg>\n"
      ],
      "metadata": {
        "id": "YSbF8qArO96J",
        "colab": {
          "base_uri": "https://localhost:8080/",
          "height": 34
        },
        "outputId": "174259b9-1d0b-4562-faca-58de3a00e4bd"
      },
      "execution_count": null,
      "outputs": [
        {
          "output_type": "display_data",
          "data": {
            "text/plain": [
              "<IPython.core.display.HTML object>"
            ],
            "text/html": [
              "<style>\n",
              "body {\n",
              "  background-color: #f2bcca;\n",
              "}\n",
              "</style>\n",
              "color = 'green' #@param [\"red\", \"green\", \"blue\"] print(color) \n",
              "<svg xmlns=\"https://www.w3.org/2000/svg\" viewBox=\"0 0 600 400\" width=\"400\" height=\"400\">\n",
              "   <rect x=\"10\" y=\"00\" width=\"300\" height=\"100\" rx=\"0\" style=\"fill:orange; stroke:black; fill-opacity:1.0\" />\n",
              "   <rect x=\"10\" y=\"100\" width=\"300\" height=\"100\" rx=\"0\" style=\"fill:white; stroke:black; fill-opacity:1.0;\" />\n",
              "   <rect x=\"10\" y=\"200\" width=\"300\" height=\"100\" rx=\"0\" style=\"fill:green; stroke:black; fill-opacity:1.0;\" />\n",
              "</svg>\n"
            ]
          },
          "metadata": {}
        }
      ]
    },
    {
      "cell_type": "code",
      "source": [
        "cd /content/drive/MyDrive"
      ],
      "metadata": {
        "id": "REyPr3_4O6Yn",
        "colab": {
          "base_uri": "https://localhost:8080/"
        },
        "outputId": "91af0354-1b74-485b-c56d-cd9457d8af93"
      },
      "execution_count": null,
      "outputs": [
        {
          "output_type": "stream",
          "name": "stdout",
          "text": [
            "/content/drive/MyDrive\n"
          ]
        }
      ]
    },
    {
      "cell_type": "code",
      "source": [
        "!ls"
      ],
      "metadata": {
        "colab": {
          "base_uri": "https://localhost:8080/"
        },
        "id": "DJFaJcUwcxbY",
        "outputId": "a7201651-2ed4-45c5-c6fa-fecbfc0c77b8"
      },
      "execution_count": null,
      "outputs": [
        {
          "output_type": "stream",
          "name": "stdout",
          "text": [
            " 1.txt.txt  'Colab Notebooks'   Notability\n"
          ]
        }
      ]
    },
    {
      "cell_type": "code",
      "source": [
        "with open('1.txt','r') as file:\n",
        "  lines=file.readlines()\n",
        "  print(lines)"
      ],
      "metadata": {
        "colab": {
          "base_uri": "https://localhost:8080/",
          "height": 176
        },
        "id": "1HdBIYoJcz_2",
        "outputId": "a4a63fab-971e-42a1-8769-ddd4b8f3b88c"
      },
      "execution_count": null,
      "outputs": [
        {
          "output_type": "error",
          "ename": "FileNotFoundError",
          "evalue": "[Errno 2] No such file or directory: '1.txt'",
          "traceback": [
            "\u001b[0;31m---------------------------------------------------------------------------\u001b[0m",
            "\u001b[0;31mFileNotFoundError\u001b[0m                         Traceback (most recent call last)",
            "\u001b[0;32m<ipython-input-12-1b46373775a3>\u001b[0m in \u001b[0;36m<cell line: 1>\u001b[0;34m()\u001b[0m\n\u001b[0;32m----> 1\u001b[0;31m \u001b[0;32mwith\u001b[0m \u001b[0mopen\u001b[0m\u001b[0;34m(\u001b[0m\u001b[0;34m'1.txt'\u001b[0m\u001b[0;34m,\u001b[0m\u001b[0;34m'r'\u001b[0m\u001b[0;34m)\u001b[0m \u001b[0;32mas\u001b[0m \u001b[0mfile\u001b[0m\u001b[0;34m:\u001b[0m\u001b[0;34m\u001b[0m\u001b[0;34m\u001b[0m\u001b[0m\n\u001b[0m\u001b[1;32m      2\u001b[0m   \u001b[0mlines\u001b[0m\u001b[0;34m=\u001b[0m\u001b[0mfile\u001b[0m\u001b[0;34m.\u001b[0m\u001b[0mreadlines\u001b[0m\u001b[0;34m(\u001b[0m\u001b[0;34m)\u001b[0m\u001b[0;34m\u001b[0m\u001b[0;34m\u001b[0m\u001b[0m\n\u001b[1;32m      3\u001b[0m   \u001b[0mprint\u001b[0m\u001b[0;34m(\u001b[0m\u001b[0mlines\u001b[0m\u001b[0;34m)\u001b[0m\u001b[0;34m\u001b[0m\u001b[0;34m\u001b[0m\u001b[0m\n",
            "\u001b[0;31mFileNotFoundError\u001b[0m: [Errno 2] No such file or directory: '1.txt'"
          ]
        }
      ]
    },
    {
      "cell_type": "code",
      "source": [
        "file.close()"
      ],
      "metadata": {
        "id": "SXWql9BddYqn"
      },
      "execution_count": null,
      "outputs": []
    },
    {
      "cell_type": "code",
      "source": [
        "with open('example.txt','w') as file:\n",
        "  file.write('Hello World')"
      ],
      "metadata": {
        "id": "lfiLcjncd604"
      },
      "execution_count": null,
      "outputs": []
    },
    {
      "cell_type": "code",
      "source": [
        "file.close()"
      ],
      "metadata": {
        "id": "QijEDPmkfa43"
      },
      "execution_count": null,
      "outputs": []
    },
    {
      "cell_type": "code",
      "source": [
        "with open('students.txt','r') as file:\n",
        "  lines=file.readlines()\n",
        "  print(lines)\n",
        "\n",
        "  #ron homo"
      ],
      "metadata": {
        "colab": {
          "base_uri": "https://localhost:8080/",
          "height": 211
        },
        "id": "LcDDjLfff8K1",
        "outputId": "dab09840-a1e1-4892-e75f-afeeba1511b8"
      },
      "execution_count": null,
      "outputs": [
        {
          "output_type": "error",
          "ename": "FileNotFoundError",
          "evalue": "[Errno 2] No such file or directory: 'students.txt'",
          "traceback": [
            "\u001b[0;31m---------------------------------------------------------------------------\u001b[0m",
            "\u001b[0;31mFileNotFoundError\u001b[0m                         Traceback (most recent call last)",
            "\u001b[0;32m<ipython-input-11-a3e5e3cf1eff>\u001b[0m in \u001b[0;36m<cell line: 1>\u001b[0;34m()\u001b[0m\n\u001b[0;32m----> 1\u001b[0;31m \u001b[0;32mwith\u001b[0m \u001b[0mopen\u001b[0m\u001b[0;34m(\u001b[0m\u001b[0;34m'students.txt'\u001b[0m\u001b[0;34m,\u001b[0m\u001b[0;34m'r'\u001b[0m\u001b[0;34m)\u001b[0m \u001b[0;32mas\u001b[0m \u001b[0mfile\u001b[0m\u001b[0;34m:\u001b[0m\u001b[0;34m\u001b[0m\u001b[0;34m\u001b[0m\u001b[0m\n\u001b[0m\u001b[1;32m      2\u001b[0m   \u001b[0mlines\u001b[0m\u001b[0;34m=\u001b[0m\u001b[0mfile\u001b[0m\u001b[0;34m.\u001b[0m\u001b[0mreadlines\u001b[0m\u001b[0;34m(\u001b[0m\u001b[0;34m)\u001b[0m\u001b[0;34m\u001b[0m\u001b[0;34m\u001b[0m\u001b[0m\n\u001b[1;32m      3\u001b[0m   \u001b[0mprint\u001b[0m\u001b[0;34m(\u001b[0m\u001b[0mlines\u001b[0m\u001b[0;34m)\u001b[0m\u001b[0;34m\u001b[0m\u001b[0;34m\u001b[0m\u001b[0m\n\u001b[1;32m      4\u001b[0m \u001b[0;34m\u001b[0m\u001b[0m\n\u001b[1;32m      5\u001b[0m   \u001b[0;31m#ron homo\u001b[0m\u001b[0;34m\u001b[0m\u001b[0;34m\u001b[0m\u001b[0m\n",
            "\u001b[0;31mFileNotFoundError\u001b[0m: [Errno 2] No such file or directory: 'students.txt'"
          ]
        }
      ]
    },
    {
      "cell_type": "code",
      "source": [
        "from logging import PlaceHolder\n",
        "import ipywidgets as widgets\n",
        "import ipyvuetify as v\n",
        "from IPython.display import display\n",
        "import pandas as pd\n",
        "\n",
        "class Student:\n",
        "    student_count = 1\n",
        "    def __init__(self, first_name, last_name, mail, courses_list, link):\n",
        "        self.id = Student.student_count\n",
        "        Student.student_count += 1\n",
        "        self.first_name = first_name\n",
        "        self.last_name = last_name\n",
        "        self.mail = mail\n",
        "        self.courses_list = courses_list\n",
        "        self.link = link\n",
        "        self.show = ''\n",
        "\n",
        "    def __str__(self):\n",
        "        return f'{self.id} {self.first_name} {self.last_name} {self.mail} {self.courses_list} {self.link}'\n",
        "\n",
        "def parse_file():\n",
        "    students = dict()\n",
        "    with open('students.txt', 'r') as file:\n",
        "        lines = file.readlines()\n",
        "        for line in lines:\n",
        "            ls = line.split('$')\n",
        "            firstName = ls[0]\n",
        "            lastName = ls[1]\n",
        "            mail = ls[2]\n",
        "            coursesList = ls[3:-1]\n",
        "            link = ls[-1]\n",
        "            student = Student(firstName, lastName, mail, coursesList, link)\n",
        "            students[student.id] = student\n",
        "    return students\n",
        "\n",
        "# parsing the students.txt file\n",
        "students = parse_file()\n",
        "names = list()\n",
        "for student in students.values():\n",
        "    names.append(f'{student.first_name} {student.last_name}')\n",
        "\n",
        "# Create the dropdown widget with a default value\n",
        "dropdown = widgets.Dropdown(\n",
        "    options=names,\n",
        "    value=None,  # Set the default value here\n",
        "    description='Choose Student:',\n",
        "    style={'description_width': 'initial'}\n",
        ")\n",
        "\n",
        "# Create the text box widget for displaying details\n",
        "output = widgets.Output()\n",
        "\n",
        "# Function to handle dropdown change\n",
        "def on_change(change):\n",
        "    selected_index = names.index(change['new'])\n",
        "    selected_student = students[selected_index + 1]\n",
        "    courses = ', '.join(selected_student.courses_list)\n",
        "\n",
        "    with output:\n",
        "        output.clear_output()\n",
        "        print(f'Name:    {selected_student.first_name} {selected_student.last_name}')\n",
        "        print(f'Mail:    {selected_student.mail}')\n",
        "        print(f'Courses: {courses}')\n",
        "        print(f'Link:    {selected_student.link}')\n",
        "        display(text_input,button)\n",
        "\n",
        "\n",
        "text_input = widgets.Text(\n",
        "    placeholder='Type something...',\n",
        "    description='Favorite Show:',\n",
        "    style={'description_width': 'initial'}\n",
        ")\n",
        "\n",
        "# Create a Button widget\n",
        "button = widgets.Button(description='Submit')\n",
        "\n",
        "dropdown.observe(on_change, names='value')\n",
        "\n",
        "# Display the widgets\n",
        "display(dropdown, output)\n"
      ],
      "metadata": {
        "id": "JJM9OAmC1DAi",
        "colab": {
          "base_uri": "https://localhost:8080/",
          "height": 182,
          "referenced_widgets": [
            "ee734c499fbe46ea81a0a64c04c90ffc",
            "2abbff7535d1422ea51e3d58fe1f94bb",
            "10412ba5d8394c8685671dd79fdef24e",
            "db4775a4820f4d28916c0250bf01e1a7",
            "5e9dddcd9a7a422d86fdeca30bfbe975",
            "ccdd279b9f674dd8af7d693c6bf72042",
            "08e59d18f43a474da809a5381e743946",
            "e319c0d802944d5281461d30b315d609",
            "12c0fa1cb1ba42d8924ac373b0ab1af1",
            "d8255dc183984c10a73bdd3e441863d1",
            "835c8185f16c42b0a341287af7c67f89"
          ]
        },
        "outputId": "8249fd9a-fb37-4d1a-b5e2-e15093ee0ff8"
      },
      "execution_count": null,
      "outputs": [
        {
          "output_type": "display_data",
          "data": {
            "text/plain": [
              "Dropdown(description='Choose Student:', options=('Avishay Bar', 'Ron Bendel'), style=DescriptionStyle(descript…"
            ],
            "application/vnd.jupyter.widget-view+json": {
              "version_major": 2,
              "version_minor": 0,
              "model_id": "ee734c499fbe46ea81a0a64c04c90ffc"
            }
          },
          "metadata": {}
        },
        {
          "output_type": "display_data",
          "data": {
            "text/plain": [
              "Output()"
            ],
            "application/vnd.jupyter.widget-view+json": {
              "version_major": 2,
              "version_minor": 0,
              "model_id": "db4775a4820f4d28916c0250bf01e1a7"
            }
          },
          "metadata": {}
        }
      ]
    },
    {
      "cell_type": "code",
      "source": [
        "from logging import PlaceHolder\n",
        "import ipywidgets as widgets\n",
        "import ipyvuetify as v\n",
        "from IPython.display import display\n",
        "import pandas as pd\n",
        "import json\n",
        "\n",
        "class Student:\n",
        "    student_count = 1\n",
        "    def __init__(self, first_name, last_name, mail, courses_list, link):\n",
        "        self.id = Student.student_count\n",
        "        Student.student_count += 1\n",
        "        self.first_name = first_name\n",
        "        self.last_name = last_name\n",
        "        self.mail = mail\n",
        "        self.courses_list = courses_list\n",
        "        self.link = link\n",
        "        self.show = ''\n",
        "\n",
        "    def __str__(self):\n",
        "        return f'{self.id} {self.first_name} {self.last_name} {self.mail} {self.courses_list} {self.link}'\n",
        "\n",
        "def parse_file():\n",
        "    students = dict()\n",
        "    with open('students.txt', 'r') as file:\n",
        "        lines = file.readlines()\n",
        "        for line in lines:\n",
        "            ls = line.strip().split('$')\n",
        "            firstName = ls[0]\n",
        "            lastName = ls[1]\n",
        "            mail = ls[2]\n",
        "            coursesList = ls[3:-1]\n",
        "            link = ls[-1]\n",
        "            student = Student(firstName, lastName, mail, coursesList, link)\n",
        "            students[student.id] = student\n",
        "    return students\n",
        "\n",
        "# Parsing the students.txt file\n",
        "students = parse_file()\n",
        "names = list()\n",
        "for student in students.values():\n",
        "    names.append(f'{student.first_name} {student.last_name}')\n",
        "\n",
        "# Create the dropdown widget with a default value\n",
        "dropdown = widgets.Dropdown(\n",
        "    options=names,\n",
        "    value=None,  # Initially set to None\n",
        "    description='Choose Student:',\n",
        "    style={'description_width': 'initial'}\n",
        ")\n",
        "\n",
        "# Create the output widget for displaying details\n",
        "output = widgets.Output()\n",
        "\n",
        "# Create the text input widget\n",
        "text_input = widgets.Text(\n",
        "    placeholder='Type something...',\n",
        "    description='Favorite Show:',\n",
        "    style={'description_width': 'initial'}\n",
        ")\n",
        "\n",
        "# Create a Button widget\n",
        "button = widgets.Button(description='Submit')\n",
        "\n",
        "def on_button_click(b):\n",
        "    with output:\n",
        "        selected_index = names.index(dropdown.value)\n",
        "        selected_student = students[selected_index + 1]\n",
        "        selected_student.show = text_input.value\n",
        "        print(f'Favorite Show for {selected_student.first_name} {selected_student.last_name}: {text_input.value}')\n",
        "\n",
        "\n",
        "# Function to handle dropdown change\n",
        "def on_change(change):\n",
        "    with output:\n",
        "        output.clear_output()\n",
        "        if change['new'] is not None:\n",
        "            selected_index = names.index(change['new'])\n",
        "            selected_student = students[selected_index + 1]\n",
        "            courses = ', '.join(selected_student.courses_list)\n",
        "\n",
        "            # Display student details\n",
        "            print(f'Name:    {selected_student.first_name} {selected_student.last_name}')\n",
        "            print(f'Mail:    {selected_student.mail}')\n",
        "            print(f'Courses: {courses}')\n",
        "            print(f'Link:    {selected_student.link}')\n",
        "\n",
        "            # Ensure text input and button are displayed\n",
        "            display(text_input, button)\n",
        "\n",
        "\n",
        "studentsList = []\n",
        "\n",
        "with open('students.txt', 'r') as f:\n",
        "    for line in f:\n",
        "        data = line.strip().split('$')\n",
        "        studentDict = {\n",
        "            \"firstName\": data[0],\n",
        "            \"lastName\": data[1],\n",
        "            \"email\": data[2],\n",
        "            \"coursesList\": data[3:-1],\n",
        "            \"link\": data[-1],\n",
        "            \"show\": -1\n",
        "        }\n",
        "        studentsList.append(studentDict)\n",
        "\n",
        "print(\"Printing each JSON Decoded Object\")\n",
        "for student in studentsList:\n",
        "    print(student[\"firstName\"], student[\"lastName\"], student[\"email\"], student[\"coursesList\"], student[\"link\"],student[\"show\"])\n",
        "    # Update data for each student\n",
        "    newData = {\"DOB\": \"22-10-2001\"}\n",
        "    student.update(newData)\n",
        "\n",
        "# Write updated data back to a JSON file\n",
        "with open('students2.json', \"w\") as fid:\n",
        "    json.dump(studentsList, fid)\n",
        "\n",
        "\n",
        "# Attach button click event\n",
        "button.on_click(on_button_click)\n",
        "\n",
        "# Attach dropdown change event\n",
        "dropdown.observe(on_change, names='value')\n",
        "\n",
        "# Use VBox to layout widgets vertically with specified size\n",
        "layout = widgets.VBox([dropdown, output], layout=widgets.Layout(width='100%', height='400px'))\n",
        "\n",
        "# Display the layout\n",
        "display(layout)\n"
      ],
      "metadata": {
        "id": "ZGy5Oek2LGUJ",
        "colab": {
          "base_uri": "https://localhost:8080/",
          "height": 469,
          "referenced_widgets": [
            "8445e0c52855460e8e53264d5a76342f",
            "cb3be1939b9e435f9d54ae0331e85051",
            "5d3919b8dbf14b35b17a975a66af7f1f",
            "13f46b3c3e2543e5b2be1c57f9d24a8c",
            "ff122b89ad52448e9b6a1a43d42927d5",
            "53df0964a5a14eed9fc62bf78bd685ad",
            "c8ea19d9beda4d9b81eb9cf83888923b"
          ]
        },
        "outputId": "8374ad8e-abe3-4be5-d8ea-4b5e37670a9d"
      },
      "execution_count": null,
      "outputs": [
        {
          "output_type": "stream",
          "name": "stdout",
          "text": [
            "Printing each JSON Decoded Object\n",
            "Avishay Bar Avishay.Bar@e.braude.ac.il ['A', 'B', 'C', 'D'] https://w3.braude.ac.il/ -1\n",
            "Ron Bendel Ron.Bendel@e.braude.ac.il ['A', 'B', 'C', 'D'] https://w3.braude.ac.il/ -1\n"
          ]
        },
        {
          "output_type": "display_data",
          "data": {
            "text/plain": [
              "VBox(children=(Dropdown(description='Choose Student:', options=('Avishay Bar', 'Ron Bendel'), style=Descriptio…"
            ],
            "application/vnd.jupyter.widget-view+json": {
              "version_major": 2,
              "version_minor": 0,
              "model_id": "8445e0c52855460e8e53264d5a76342f"
            }
          },
          "metadata": {}
        }
      ]
    },
    {
      "cell_type": "code",
      "source": [],
      "metadata": {
        "id": "c8NOQbAySI5Z"
      },
      "execution_count": null,
      "outputs": []
    },
    {
      "cell_type": "code",
      "source": [],
      "metadata": {
        "id": "AOMwkz-LSN8q"
      },
      "execution_count": null,
      "outputs": []
    }
  ]
}